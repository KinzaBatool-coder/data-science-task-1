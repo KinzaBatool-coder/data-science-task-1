{
 "cells": [
  {
   "cell_type": "code",
   "execution_count": 1,
   "id": "a903b424",
   "metadata": {
    "_cell_guid": "b1076dfc-b9ad-4769-8c92-a6c4dae69d19",
    "_uuid": "8f2839f25d086af736a60e9eeb907d3b93b6e0e5",
    "execution": {
     "iopub.execute_input": "2025-08-08T04:00:11.365418Z",
     "iopub.status.busy": "2025-08-08T04:00:11.364992Z",
     "iopub.status.idle": "2025-08-08T04:00:13.509621Z",
     "shell.execute_reply": "2025-08-08T04:00:13.508569Z"
    },
    "papermill": {
     "duration": 2.152003,
     "end_time": "2025-08-08T04:00:13.511569",
     "exception": false,
     "start_time": "2025-08-08T04:00:11.359566",
     "status": "completed"
    },
    "tags": []
   },
   "outputs": [
    {
     "name": "stdout",
     "output_type": "stream",
     "text": [
      "/kaggle/input/iriscsv/Iris.csv\n"
     ]
    }
   ],
   "source": [
    "# This Python 3 environment comes with many helpful analytics libraries installed\n",
    "# It is defined by the kaggle/python Docker image: https://github.com/kaggle/docker-python\n",
    "# For example, here's several helpful packages to load\n",
    "\n",
    "import numpy as np # linear algebra\n",
    "import pandas as pd # data processing, CSV file I/O (e.g. pd.read_csv)\n",
    "\n",
    "# Input data files are available in the read-only \"../input/\" directory\n",
    "# For example, running this (by clicking run or pressing Shift+Enter) will list all files under the input directory\n",
    "\n",
    "import os\n",
    "for dirname, _, filenames in os.walk('/kaggle/input'):\n",
    "    for filename in filenames:\n",
    "        print(os.path.join(dirname, filename))\n",
    "\n",
    "# You can write up to 20GB to the current directory (/kaggle/working/) that gets preserved as output when you create a version using \"Save & Run All\" \n",
    "# You can also write temporary files to /kaggle/temp/, but they won't be saved outside of the current session"
   ]
  },
  {
   "cell_type": "code",
   "execution_count": 2,
   "id": "c3e47f03",
   "metadata": {
    "execution": {
     "iopub.execute_input": "2025-08-08T04:00:13.521084Z",
     "iopub.status.busy": "2025-08-08T04:00:13.520013Z",
     "iopub.status.idle": "2025-08-08T04:00:13.525211Z",
     "shell.execute_reply": "2025-08-08T04:00:13.524210Z"
    },
    "papermill": {
     "duration": 0.011191,
     "end_time": "2025-08-08T04:00:13.526727",
     "exception": false,
     "start_time": "2025-08-08T04:00:13.515536",
     "status": "completed"
    },
    "tags": []
   },
   "outputs": [],
   "source": [
    "import numpy as np # linear algebra\n",
    "import pandas as pd # data processing, CSV file I/O (e.g. pd.read_csv)\n"
   ]
  },
  {
   "cell_type": "code",
   "execution_count": 3,
   "id": "3a8d4da6",
   "metadata": {
    "execution": {
     "iopub.execute_input": "2025-08-08T04:00:13.535920Z",
     "iopub.status.busy": "2025-08-08T04:00:13.535608Z",
     "iopub.status.idle": "2025-08-08T04:00:13.562290Z",
     "shell.execute_reply": "2025-08-08T04:00:13.561054Z"
    },
    "papermill": {
     "duration": 0.033407,
     "end_time": "2025-08-08T04:00:13.564546",
     "exception": false,
     "start_time": "2025-08-08T04:00:13.531139",
     "status": "completed"
    },
    "tags": []
   },
   "outputs": [],
   "source": [
    "dataset = pd.read_csv(\"/kaggle/input/iriscsv/Iris.csv\")\n"
   ]
  },
  {
   "cell_type": "code",
   "execution_count": 4,
   "id": "8859f291",
   "metadata": {
    "execution": {
     "iopub.execute_input": "2025-08-08T04:00:13.573288Z",
     "iopub.status.busy": "2025-08-08T04:00:13.572903Z",
     "iopub.status.idle": "2025-08-08T04:00:13.604586Z",
     "shell.execute_reply": "2025-08-08T04:00:13.603019Z"
    },
    "papermill": {
     "duration": 0.038475,
     "end_time": "2025-08-08T04:00:13.606381",
     "exception": false,
     "start_time": "2025-08-08T04:00:13.567906",
     "status": "completed"
    },
    "tags": []
   },
   "outputs": [
    {
     "data": {
      "text/html": [
       "<div>\n",
       "<style scoped>\n",
       "    .dataframe tbody tr th:only-of-type {\n",
       "        vertical-align: middle;\n",
       "    }\n",
       "\n",
       "    .dataframe tbody tr th {\n",
       "        vertical-align: top;\n",
       "    }\n",
       "\n",
       "    .dataframe thead th {\n",
       "        text-align: right;\n",
       "    }\n",
       "</style>\n",
       "<table border=\"1\" class=\"dataframe\">\n",
       "  <thead>\n",
       "    <tr style=\"text-align: right;\">\n",
       "      <th></th>\n",
       "      <th>Id</th>\n",
       "      <th>SepalLengthCm</th>\n",
       "      <th>SepalWidthCm</th>\n",
       "      <th>PetalLengthCm</th>\n",
       "      <th>PetalWidthCm</th>\n",
       "      <th>Species</th>\n",
       "    </tr>\n",
       "  </thead>\n",
       "  <tbody>\n",
       "    <tr>\n",
       "      <th>0</th>\n",
       "      <td>1</td>\n",
       "      <td>5.1</td>\n",
       "      <td>3.5</td>\n",
       "      <td>1.4</td>\n",
       "      <td>0.2</td>\n",
       "      <td>Iris-setosa</td>\n",
       "    </tr>\n",
       "    <tr>\n",
       "      <th>1</th>\n",
       "      <td>2</td>\n",
       "      <td>4.9</td>\n",
       "      <td>3.0</td>\n",
       "      <td>1.4</td>\n",
       "      <td>0.2</td>\n",
       "      <td>Iris-setosa</td>\n",
       "    </tr>\n",
       "    <tr>\n",
       "      <th>2</th>\n",
       "      <td>3</td>\n",
       "      <td>4.7</td>\n",
       "      <td>3.2</td>\n",
       "      <td>1.3</td>\n",
       "      <td>0.2</td>\n",
       "      <td>Iris-setosa</td>\n",
       "    </tr>\n",
       "    <tr>\n",
       "      <th>3</th>\n",
       "      <td>4</td>\n",
       "      <td>4.6</td>\n",
       "      <td>3.1</td>\n",
       "      <td>1.5</td>\n",
       "      <td>0.2</td>\n",
       "      <td>Iris-setosa</td>\n",
       "    </tr>\n",
       "    <tr>\n",
       "      <th>4</th>\n",
       "      <td>5</td>\n",
       "      <td>5.0</td>\n",
       "      <td>3.6</td>\n",
       "      <td>1.4</td>\n",
       "      <td>0.2</td>\n",
       "      <td>Iris-setosa</td>\n",
       "    </tr>\n",
       "  </tbody>\n",
       "</table>\n",
       "</div>"
      ],
      "text/plain": [
       "   Id  SepalLengthCm  SepalWidthCm  PetalLengthCm  PetalWidthCm      Species\n",
       "0   1            5.1           3.5            1.4           0.2  Iris-setosa\n",
       "1   2            4.9           3.0            1.4           0.2  Iris-setosa\n",
       "2   3            4.7           3.2            1.3           0.2  Iris-setosa\n",
       "3   4            4.6           3.1            1.5           0.2  Iris-setosa\n",
       "4   5            5.0           3.6            1.4           0.2  Iris-setosa"
      ]
     },
     "execution_count": 4,
     "metadata": {},
     "output_type": "execute_result"
    }
   ],
   "source": [
    "dataset.head(5)"
   ]
  },
  {
   "cell_type": "code",
   "execution_count": 5,
   "id": "d6a2f93f",
   "metadata": {
    "execution": {
     "iopub.execute_input": "2025-08-08T04:00:13.615044Z",
     "iopub.status.busy": "2025-08-08T04:00:13.614715Z",
     "iopub.status.idle": "2025-08-08T04:00:13.625757Z",
     "shell.execute_reply": "2025-08-08T04:00:13.624670Z"
    },
    "papermill": {
     "duration": 0.017339,
     "end_time": "2025-08-08T04:00:13.627381",
     "exception": false,
     "start_time": "2025-08-08T04:00:13.610042",
     "status": "completed"
    },
    "tags": []
   },
   "outputs": [
    {
     "data": {
      "text/plain": [
       "Id               0\n",
       "SepalLengthCm    0\n",
       "SepalWidthCm     0\n",
       "PetalLengthCm    0\n",
       "PetalWidthCm     0\n",
       "Species          0\n",
       "dtype: int64"
      ]
     },
     "execution_count": 5,
     "metadata": {},
     "output_type": "execute_result"
    }
   ],
   "source": [
    "dataset.isnull().sum()\n",
    "\n",
    "\n",
    "\n",
    "\n",
    "\n",
    "\n",
    "\n",
    "\n",
    "\n"
   ]
  },
  {
   "cell_type": "code",
   "execution_count": 6,
   "id": "8de13f11",
   "metadata": {
    "execution": {
     "iopub.execute_input": "2025-08-08T04:00:13.635757Z",
     "iopub.status.busy": "2025-08-08T04:00:13.635436Z",
     "iopub.status.idle": "2025-08-08T04:00:13.642005Z",
     "shell.execute_reply": "2025-08-08T04:00:13.641093Z"
    },
    "papermill": {
     "duration": 0.01257,
     "end_time": "2025-08-08T04:00:13.643570",
     "exception": false,
     "start_time": "2025-08-08T04:00:13.631000",
     "status": "completed"
    },
    "tags": []
   },
   "outputs": [
    {
     "data": {
      "text/plain": [
       "(150, 6)"
      ]
     },
     "execution_count": 6,
     "metadata": {},
     "output_type": "execute_result"
    }
   ],
   "source": [
    "dataset.shape"
   ]
  },
  {
   "cell_type": "code",
   "execution_count": 7,
   "id": "2e513011",
   "metadata": {
    "execution": {
     "iopub.execute_input": "2025-08-08T04:00:13.652402Z",
     "iopub.status.busy": "2025-08-08T04:00:13.652038Z",
     "iopub.status.idle": "2025-08-08T04:00:16.247199Z",
     "shell.execute_reply": "2025-08-08T04:00:16.246025Z"
    },
    "papermill": {
     "duration": 2.602198,
     "end_time": "2025-08-08T04:00:16.249559",
     "exception": false,
     "start_time": "2025-08-08T04:00:13.647361",
     "status": "completed"
    },
    "tags": []
   },
   "outputs": [],
   "source": [
    "\n",
    "from sklearn.datasets import load_iris\n",
    "from sklearn.model_selection import train_test_split\n",
    "from sklearn.preprocessing import StandardScaler\n",
    "from sklearn.linear_model import LogisticRegression\n",
    "from sklearn.metrics import accuracy_score, classification_report, confusion_matrix\n",
    "import seaborn as sns\n",
    "import matplotlib.pyplot as plt"
   ]
  },
  {
   "cell_type": "code",
   "execution_count": 8,
   "id": "8f875ff5",
   "metadata": {
    "execution": {
     "iopub.execute_input": "2025-08-08T04:00:16.259971Z",
     "iopub.status.busy": "2025-08-08T04:00:16.259342Z",
     "iopub.status.idle": "2025-08-08T04:00:16.272543Z",
     "shell.execute_reply": "2025-08-08T04:00:16.271409Z"
    },
    "papermill": {
     "duration": 0.020759,
     "end_time": "2025-08-08T04:00:16.274842",
     "exception": false,
     "start_time": "2025-08-08T04:00:16.254083",
     "status": "completed"
    },
    "tags": []
   },
   "outputs": [],
   "source": [
    "iris = load_iris()\n",
    "X = iris.data  # features: sepal length, sepal width, petal length, petal width\n",
    "y = iris.target "
   ]
  },
  {
   "cell_type": "code",
   "execution_count": 9,
   "id": "1dab2a47",
   "metadata": {
    "execution": {
     "iopub.execute_input": "2025-08-08T04:00:16.285053Z",
     "iopub.status.busy": "2025-08-08T04:00:16.284623Z",
     "iopub.status.idle": "2025-08-08T04:00:16.293143Z",
     "shell.execute_reply": "2025-08-08T04:00:16.292112Z"
    },
    "papermill": {
     "duration": 0.016125,
     "end_time": "2025-08-08T04:00:16.295013",
     "exception": false,
     "start_time": "2025-08-08T04:00:16.278888",
     "status": "completed"
    },
    "tags": []
   },
   "outputs": [],
   "source": [
    "X_train, X_test, y_train, y_test = train_test_split(\n",
    "    X, y, test_size=0.2, random_state=42\n",
    ")"
   ]
  },
  {
   "cell_type": "code",
   "execution_count": 10,
   "id": "663e520d",
   "metadata": {
    "execution": {
     "iopub.execute_input": "2025-08-08T04:00:16.304360Z",
     "iopub.status.busy": "2025-08-08T04:00:16.303947Z",
     "iopub.status.idle": "2025-08-08T04:00:16.310805Z",
     "shell.execute_reply": "2025-08-08T04:00:16.309733Z"
    },
    "papermill": {
     "duration": 0.013579,
     "end_time": "2025-08-08T04:00:16.312655",
     "exception": false,
     "start_time": "2025-08-08T04:00:16.299076",
     "status": "completed"
    },
    "tags": []
   },
   "outputs": [],
   "source": [
    "scaler = StandardScaler()\n",
    "X_train = scaler.fit_transform(X_train)\n",
    "X_test = scaler.transform(X_test)\n"
   ]
  },
  {
   "cell_type": "code",
   "execution_count": 11,
   "id": "8106cf60",
   "metadata": {
    "execution": {
     "iopub.execute_input": "2025-08-08T04:00:16.322002Z",
     "iopub.status.busy": "2025-08-08T04:00:16.321598Z",
     "iopub.status.idle": "2025-08-08T04:00:16.373138Z",
     "shell.execute_reply": "2025-08-08T04:00:16.372215Z"
    },
    "papermill": {
     "duration": 0.059515,
     "end_time": "2025-08-08T04:00:16.376034",
     "exception": false,
     "start_time": "2025-08-08T04:00:16.316519",
     "status": "completed"
    },
    "tags": []
   },
   "outputs": [
    {
     "data": {
      "text/html": [
       "<style>#sk-container-id-1 {color: black;background-color: white;}#sk-container-id-1 pre{padding: 0;}#sk-container-id-1 div.sk-toggleable {background-color: white;}#sk-container-id-1 label.sk-toggleable__label {cursor: pointer;display: block;width: 100%;margin-bottom: 0;padding: 0.3em;box-sizing: border-box;text-align: center;}#sk-container-id-1 label.sk-toggleable__label-arrow:before {content: \"▸\";float: left;margin-right: 0.25em;color: #696969;}#sk-container-id-1 label.sk-toggleable__label-arrow:hover:before {color: black;}#sk-container-id-1 div.sk-estimator:hover label.sk-toggleable__label-arrow:before {color: black;}#sk-container-id-1 div.sk-toggleable__content {max-height: 0;max-width: 0;overflow: hidden;text-align: left;background-color: #f0f8ff;}#sk-container-id-1 div.sk-toggleable__content pre {margin: 0.2em;color: black;border-radius: 0.25em;background-color: #f0f8ff;}#sk-container-id-1 input.sk-toggleable__control:checked~div.sk-toggleable__content {max-height: 200px;max-width: 100%;overflow: auto;}#sk-container-id-1 input.sk-toggleable__control:checked~label.sk-toggleable__label-arrow:before {content: \"▾\";}#sk-container-id-1 div.sk-estimator input.sk-toggleable__control:checked~label.sk-toggleable__label {background-color: #d4ebff;}#sk-container-id-1 div.sk-label input.sk-toggleable__control:checked~label.sk-toggleable__label {background-color: #d4ebff;}#sk-container-id-1 input.sk-hidden--visually {border: 0;clip: rect(1px 1px 1px 1px);clip: rect(1px, 1px, 1px, 1px);height: 1px;margin: -1px;overflow: hidden;padding: 0;position: absolute;width: 1px;}#sk-container-id-1 div.sk-estimator {font-family: monospace;background-color: #f0f8ff;border: 1px dotted black;border-radius: 0.25em;box-sizing: border-box;margin-bottom: 0.5em;}#sk-container-id-1 div.sk-estimator:hover {background-color: #d4ebff;}#sk-container-id-1 div.sk-parallel-item::after {content: \"\";width: 100%;border-bottom: 1px solid gray;flex-grow: 1;}#sk-container-id-1 div.sk-label:hover label.sk-toggleable__label {background-color: #d4ebff;}#sk-container-id-1 div.sk-serial::before {content: \"\";position: absolute;border-left: 1px solid gray;box-sizing: border-box;top: 0;bottom: 0;left: 50%;z-index: 0;}#sk-container-id-1 div.sk-serial {display: flex;flex-direction: column;align-items: center;background-color: white;padding-right: 0.2em;padding-left: 0.2em;position: relative;}#sk-container-id-1 div.sk-item {position: relative;z-index: 1;}#sk-container-id-1 div.sk-parallel {display: flex;align-items: stretch;justify-content: center;background-color: white;position: relative;}#sk-container-id-1 div.sk-item::before, #sk-container-id-1 div.sk-parallel-item::before {content: \"\";position: absolute;border-left: 1px solid gray;box-sizing: border-box;top: 0;bottom: 0;left: 50%;z-index: -1;}#sk-container-id-1 div.sk-parallel-item {display: flex;flex-direction: column;z-index: 1;position: relative;background-color: white;}#sk-container-id-1 div.sk-parallel-item:first-child::after {align-self: flex-end;width: 50%;}#sk-container-id-1 div.sk-parallel-item:last-child::after {align-self: flex-start;width: 50%;}#sk-container-id-1 div.sk-parallel-item:only-child::after {width: 0;}#sk-container-id-1 div.sk-dashed-wrapped {border: 1px dashed gray;margin: 0 0.4em 0.5em 0.4em;box-sizing: border-box;padding-bottom: 0.4em;background-color: white;}#sk-container-id-1 div.sk-label label {font-family: monospace;font-weight: bold;display: inline-block;line-height: 1.2em;}#sk-container-id-1 div.sk-label-container {text-align: center;}#sk-container-id-1 div.sk-container {/* jupyter's `normalize.less` sets `[hidden] { display: none; }` but bootstrap.min.css set `[hidden] { display: none !important; }` so we also need the `!important` here to be able to override the default hidden behavior on the sphinx rendered scikit-learn.org. See: https://github.com/scikit-learn/scikit-learn/issues/21755 */display: inline-block !important;position: relative;}#sk-container-id-1 div.sk-text-repr-fallback {display: none;}</style><div id=\"sk-container-id-1\" class=\"sk-top-container\"><div class=\"sk-text-repr-fallback\"><pre>LogisticRegression(max_iter=200)</pre><b>In a Jupyter environment, please rerun this cell to show the HTML representation or trust the notebook. <br />On GitHub, the HTML representation is unable to render, please try loading this page with nbviewer.org.</b></div><div class=\"sk-container\" hidden><div class=\"sk-item\"><div class=\"sk-estimator sk-toggleable\"><input class=\"sk-toggleable__control sk-hidden--visually\" id=\"sk-estimator-id-1\" type=\"checkbox\" checked><label for=\"sk-estimator-id-1\" class=\"sk-toggleable__label sk-toggleable__label-arrow\">LogisticRegression</label><div class=\"sk-toggleable__content\"><pre>LogisticRegression(max_iter=200)</pre></div></div></div></div></div>"
      ],
      "text/plain": [
       "LogisticRegression(max_iter=200)"
      ]
     },
     "execution_count": 11,
     "metadata": {},
     "output_type": "execute_result"
    }
   ],
   "source": [
    "model = LogisticRegression(max_iter=200)\n",
    "model.fit(X_train, y_train)"
   ]
  },
  {
   "cell_type": "code",
   "execution_count": 12,
   "id": "721ed824",
   "metadata": {
    "execution": {
     "iopub.execute_input": "2025-08-08T04:00:16.392583Z",
     "iopub.status.busy": "2025-08-08T04:00:16.392014Z",
     "iopub.status.idle": "2025-08-08T04:00:16.398977Z",
     "shell.execute_reply": "2025-08-08T04:00:16.398006Z"
    },
    "papermill": {
     "duration": 0.016413,
     "end_time": "2025-08-08T04:00:16.400685",
     "exception": false,
     "start_time": "2025-08-08T04:00:16.384272",
     "status": "completed"
    },
    "tags": []
   },
   "outputs": [],
   "source": [
    "y_pred = model.predict(X_test)"
   ]
  },
  {
   "cell_type": "code",
   "execution_count": 13,
   "id": "dabb5e74",
   "metadata": {
    "execution": {
     "iopub.execute_input": "2025-08-08T04:00:16.415252Z",
     "iopub.status.busy": "2025-08-08T04:00:16.414818Z",
     "iopub.status.idle": "2025-08-08T04:00:16.433844Z",
     "shell.execute_reply": "2025-08-08T04:00:16.431220Z"
    },
    "papermill": {
     "duration": 0.029368,
     "end_time": "2025-08-08T04:00:16.436331",
     "exception": false,
     "start_time": "2025-08-08T04:00:16.406963",
     "status": "completed"
    },
    "tags": []
   },
   "outputs": [
    {
     "name": "stdout",
     "output_type": "stream",
     "text": [
      "Model Accuracy: 1.00\n",
      "\n",
      "Classification Report:\n",
      "              precision    recall  f1-score   support\n",
      "\n",
      "      setosa       1.00      1.00      1.00        10\n",
      "  versicolor       1.00      1.00      1.00         9\n",
      "   virginica       1.00      1.00      1.00        11\n",
      "\n",
      "    accuracy                           1.00        30\n",
      "   macro avg       1.00      1.00      1.00        30\n",
      "weighted avg       1.00      1.00      1.00        30\n",
      "\n"
     ]
    }
   ],
   "source": [
    "print(f\"Model Accuracy: {accuracy_score(y_test, y_pred):.2f}\")\n",
    "print(\"\\nClassification Report:\")\n",
    "print(classification_report(y_test, y_pred, target_names=iris.target_names))"
   ]
  },
  {
   "cell_type": "code",
   "execution_count": 14,
   "id": "54d343a7",
   "metadata": {
    "execution": {
     "iopub.execute_input": "2025-08-08T04:00:16.450960Z",
     "iopub.status.busy": "2025-08-08T04:00:16.450513Z",
     "iopub.status.idle": "2025-08-08T04:00:16.749753Z",
     "shell.execute_reply": "2025-08-08T04:00:16.748794Z"
    },
    "papermill": {
     "duration": 0.308515,
     "end_time": "2025-08-08T04:00:16.751672",
     "exception": false,
     "start_time": "2025-08-08T04:00:16.443157",
     "status": "completed"
    },
    "tags": []
   },
   "outputs": [
    {
     "data": {
      "image/png": "[encoded data removed]",
      "text/plain": [
       "<Figure size 500x400 with 2 Axes>"
      ]
     },
     "metadata": {},
     "output_type": "display_data"
    }
   ],
   "source": [
    "cm = confusion_matrix(y_test, y_pred)\n",
    "plt.figure(figsize=(5,4))\n",
    "sns.heatmap(cm, annot=True, fmt='d', cmap='Blues',\n",
    "            xticklabels=iris.target_names,\n",
    "            yticklabels=iris.target_names)\n",
    "plt.ylabel('Actual')\n",
    "plt.xlabel('Predicted')\n",
    "plt.title('Confusion Matrix')\n",
    "plt.show()"
   ]
  }
 ],
 "metadata": {
  "kaggle": {
   "accelerator": "none",
   "dataSources": [
    {
     "datasetId": 4247,
     "sourceId": 6570,
     "sourceType": "datasetVersion"
    }
   ],
   "dockerImageVersionId": 31089,
   "isGpuEnabled": false,
   "isInternetEnabled": false,
   "language": "python",
   "sourceType": "notebook"
  },
  "kernelspec": {
   "display_name": "Python 3",
   "language": "python",
   "name": "python3"
  },
  "language_info": {
   "codemirror_mode": {
    "name": "ipython",
    "version": 3
   },
   "file_extension": ".py",
   "mimetype": "text/x-python",
   "name": "python",
   "nbconvert_exporter": "python",
   "pygments_lexer": "ipython3",
   "version": "3.11.13"
  },
  "papermill": {
   "default_parameters": {},
   "duration": 12.826552,
   "end_time": "2025-08-08T04:00:17.679583",
   "environment_variables": {},
   "exception": null,
   "input_path": "__notebook__.ipynb",
   "output_path": "__notebook__.ipynb",
   "parameters": {},
   "start_time": "2025-08-08T04:00:04.853031",
   "version": "2.6.0"
  }
 },
 "nbformat": 4,
 "nbformat_minor": 5
}
